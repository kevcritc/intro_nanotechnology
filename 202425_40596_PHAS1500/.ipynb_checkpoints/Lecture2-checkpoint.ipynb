{
 "cells": [
  {
   "cell_type": "markdown",
   "id": "eafba4ed",
   "metadata": {},
   "source": [
    "# Lecture 2 Notes: The Smallest Things\n",
    "\n",
    "\n",
    "---\n",
    "\n",
    "## Essay Coursework Overview\n",
    "\n",
    "### Essay Overview & Objectives\n",
    "- **Value:** 20% of module grade\n",
    "- **Word Limit:** Less than 2000 words\n",
    "- **Deadline:** 2 PM, Thursday 10th March 2025 Online Submission\n",
    "\n",
    "### Assignment Details\n",
    "Write an essay on a nanotechnology application currently being researched or already in everyday life. The essay could be about applications of:\n",
    "\n",
    "1. **Quantum Dots**\n",
    "2. **Graphene**\n",
    "3. **Carbon Nanotubes**\n",
    "4. **Nanoparticles**\n",
    "\n",
    "\n",
    "The focus should be on explaining the **science behind** the technology in a way that is understandable for a non-expert reader. Your essay should discuss how the chosen technology works, its potential applications, and current research challenges.\n",
    "\n",
    "- Use **at least six references**, with at least two not being websites.\n",
    "- Include at least **two figures** with captions and proper labels.\n",
    "\n",
    "#### Essay Structure:\n",
    "1. **Introduction (~300 words):** Provide a concise summary of the technology and outline the key points.\n",
    "2. **Background:**\n",
    "   - Describe the problem being addressed by the chosen nanotechnology application.\n",
    "   - Explain the underlying science and how the technology works.\n",
    "   - Provide context on its discovery and development.\n",
    "3. **Discussion:**\n",
    "   - Analyze the benefits and potential applications of the technology.\n",
    "   - Critically evaluate current research, challenges, and potential future developments.\n",
    "   - Consider safety, ethical, and environmental implications.\n",
    "4. **Conclusion:** Summarize the key points and provide a final statement on the potential impact of the technology.\n",
    "\n",
    "#### Mark Breakdown:\n",
    "- Introduction: **15%**\n",
    "- Background: **25%**\n",
    "- Discussion: **25%**\n",
    "- Style & Presentation (Title, grammar, structure, figures): **10%**\n",
    "- Conclusion: **10%**\n",
    "- Quality of Research/References: **15%**\n",
    "\n",
    "**Important do not wait to be taught about these materials!!\n",
    "\n",
    "---\n",
    "\n",
    "## Foundations of Nanotechnology\n",
    "\n",
    "If we take a piece of iron and split it, it's still iron - just a bit smaller.  Imagine if it was possible to keep splitting until it is not posible to split it anymore.  This is idea that the Greeks philosophers where thinking about.  Is it possible to split an infinte number of times or is there a limit (assuming tools is not the limitation).  We will come back to this idea in the next lecture.  For now, we know that atoms are the limit.\n",
    "\n",
    "### The Classical View of Atoms\n",
    "- **Nucleus**: Composed of **protons** (+ve charge) and **neutrons** (neutral).\n",
    "- Surrounded by **electrons** (-ve charge), creating a balance where the number of protons equals the number of electrons.\n",
    "- **Atomic number (Z)**: Number of protons.\n",
    "- **Atomic weight (A)**: Sum of protons and neutrons (**A = N + Z**).\n",
    "\n",
    "#### Mass & Scale\n",
    "- **Proton Mass**: ~1.673 x 10<sup>-27</sup> kg (or 1 atomic mass unit, amu/u).\n",
    "- **Electron Mass**: ~9.110 x 10<sup>-31</sup> kg (electrons are ~2000x lighter than protons).\n",
    "- **Nuclear Radius**: Typically **0.8-10 femtometers (fm)** (1 fm = **10<sup>-15</sup> meters**).\n",
    "- **Scale comparison**: A **1 cm** nucleus corresponds to a **1 km** atom in size.\n"
   ]
  },
  {
   "attachments": {
    "orbital.png": {
     "image/png": "[encoded data removed]"
    }
   },
   "cell_type": "markdown",
   "id": "1562a897",
   "metadata": {},
   "source": [
    "\n",
    "![an electron orbiting a proton](attachment:orbital.png)\n",
    "Figure 1.  The electron can be thought of as like a planet orbiting a star. "
   ]
  },
  {
   "cell_type": "markdown",
   "id": "90333466",
   "metadata": {},
   "source": [
    "The mathematics of an electron orbiting a proton are indentical to a planet orbiting the Sun in our solar system.  This latter solution maths was famously developed Newton who is the father of Mechanics and therefore it is unsuprising that wehn it is applied to the Atom it becomes 'Quantum' Mechanics.  We will address Quantum mechanics in later lectures without worrying too much about the actual mathematics.  The importance of atoms to nanotechnology cannot be understated.\n",
    "\n",
    "\n",
    "### So How Small is \"Small\"?\n",
    "- The **nanometer scale** involves sizes of **1-100 nm** (1 nm = **10<sup>-9</sup> meters**).\n",
    "- **Atoms** range in size from approximately **0.1-0.4 nm**. A single device or machine that is just a few atoms thick would be around **1 nm** in size.\n",
    "- Understanding scale:\n",
    "  - **1 nm** is to **1 meter** as a **marble** is to the **Earth**.\n",
    "\n",
    "Nanotechnology requires assembling **10s to 1000s of atoms** to create functional structures. This is why nanomachines are often at least **1 nm** thick.\n",
    "\n",
    "**Question:** If we took a gold ring and halved it, and the took the half and halved that, such that the gold piece is halved n times. Approximately what is the maxiumum value for n?\n"
   ]
  },
  {
   "cell_type": "markdown",
   "id": "af678ff2",
   "metadata": {},
   "source": [
    "\n",
    "\n",
    "\n",
    "\n",
    "\n",
    "\n",
    "\n",
    "### Potential Solution:\n",
    "    \n",
    "A ring is about $m_{ring}= 0.010$ kg\n",
    "\n",
    "mass of a single atom= $m_{atom}= 196.96657 \\times 1.66054 e^{-27}$ kg\n",
    "\n",
    "$newmass=\\frac{m_{ring}}{2^n}$\n",
    "\n",
    "therefore set the new mass a the minimum mass it could be.\n",
    "\n",
    "$m_{atom}=\\frac{m_{ring}}{2^n}$\n",
    "\n",
    "$n = \\log_2{\\frac{m_{ring}}{m_{atom}}}$\n",
    "\n",
    "\n",
    "\n"
   ]
  }
 ],
 "metadata": {
  "kernelspec": {
   "display_name": "Python 3 (ipykernel)",
   "language": "python",
   "name": "python3"
  },
  "language_info": {
   "codemirror_mode": {
    "name": "ipython",
    "version": 3
   },
   "file_extension": ".py",
   "mimetype": "text/x-python",
   "name": "python",
   "nbconvert_exporter": "python",
   "pygments_lexer": "ipython3",
   "version": "3.11.9"
  }
 },
 "nbformat": 4,
 "nbformat_minor": 5
}
