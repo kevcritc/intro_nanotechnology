{
 "cells": [
  {
   "attachments": {},
   "cell_type": "markdown",
   "id": "cf86ab08",
   "metadata": {},
   "source": [
    "\n",
    "#  Semiconductors to Quantum Dots\n",
    "\n",
    "## 1. Fermi Level and Semiconductor Basics\n",
    "\n",
    "### **Fermi-Dirac Distribution**\n",
    "The probability of finding an electron at an energy $ E $ is given by:\n",
    "$$ f(E) = \\frac{1}{1 + e^{(E - E_F)/kT}} $$\n",
    "where:\n",
    "- $ E_F $ is the Fermi level.\n",
    "- $ k $ is the Boltzmann constant.\n",
    "- $ T $ is the temperature.\n",
    "\n",
    "For **intrinsic** semiconductors, the Fermi level is found halfway between the valence band (VB) and conduction band (CB):\n",
    "$ E_F = \\frac{E_g}{2} $\n",
    "\n",
    "Doped semiconductors (n-type and p-type) shift the Fermi level position:\n",
    "- **n-type:** More electrons, Fermi level moves **closer to CB**.\n",
    "- **p-type:** More holes, Fermi level moves **closer to VB**.\n",
    "\n",
    "### **Doping in Semiconductors**\n",
    "Doping introduces impurity atoms into a semiconductor to modify its electrical properties:\n",
    "- **n-type doping:** Adding donor atoms (e.g., P, As in Si) provides extra electrons, increasing conductivity.\n",
    "- **p-type doping:** Adding acceptor atoms (e.g., B, Al in Si) creates holes, increasing hole conduction.\n",
    "\n",
    "#### **Uses of Doping**\n",
    "- **Transistors and Integrated Circuits:** Control charge flow in semiconductors.\n",
    "- **Diodes:** Create p-n junctions for rectification (e.g., LEDs, solar cells).\n",
    "- **Photodetectors & Sensors:** Enhance carrier mobility for improved sensitivity.\n",
    "- **Power Electronics:** Improve efficiency and thermal stability.\n",
    "\n",
    "### **Work Function & Electron Affinity**\n",
    "- **Work function (Φ):** Minimum energy required to remove an electron from a material to the vacuum level.\n",
    "- **Electron affinity (χ):** Energy needed to remove an electron from the CB minimum to the vacuum level.\n",
    "\n",
    "## 2. Photoluminescence (PL)\n",
    "### **Process Overview:**\n",
    "1. **Excitation:** An electron absorbs a photon of energy $ h\\nu \\geq E_g $ and moves from VB to CB.\n",
    "2. **Thermalization:** The electron rapidly loses excess energy through phonon interactions and relaxes to the CB minimum.\n",
    "3. **Recombination:** The electron recombines with a hole, emitting a photon of energy $ E_g $.\n",
    "4. **Photon Emission:** The emitted photon's energy corresponds to the semiconductor's band gap energy:\n",
    "   $$ h\\nu_{PL} = E_g $$\n",
    "\n",
    "### **Types of Photoluminescence**\n",
    "- **Intrinsic PL:** Occurs in pure semiconductors due to electron-hole recombination.\n",
    "- **Extrinsic PL:** Involves dopant-related electronic transitions (common in rare-earth-doped materials).\n",
    "- **Time-Resolved PL (TRPL):** Used to study carrier lifetimes and recombination dynamics.\n",
    "\n",
    "### **Factors Affecting Photoluminescence**\n",
    "- **Temperature:** Higher temperatures increase non-radiative recombination.\n",
    "- **Defects & Impurities:** Can introduce mid-gap states, affecting emission efficiency.\n",
    "- **Quantum Confinement:** In nanoscale semiconductors (QDs), confinement modifies emission wavelength.\n",
    "\n",
    "### **Semiconductors vs. Insulators & Metals**\n",
    "- **Insulators:** Large band gap (>4 eV).\n",
    "- **Semiconductors:** Medium band gap (~0.7–3 eV).\n",
    "- **Metals:** Overlapping bands, free electrons.\n",
    "\n",
    "## 3. Semiconductor Nanoparticles: Quantum Dots (QDs)\n",
    "\n",
    "### **Quantum Confinement Effect**\n",
    "- The band gap $ E_g $ increases as the nanoparticle size decreases:\n",
    "  $$ E_g = E_{bulk} + E_{confinement} $$\n",
    "- Governs photoluminescence behavior.\n",
    "- The Brus equation describes size-dependent energy levels:\n",
    "  $$ E_g = E_{bulk} + \\frac{h^2}{8R^2m} - \\frac{1.8e^2}{4\\pi\\epsilon R} $$\n",
    "  where $ R $ is the quantum dot radius.\n",
    "\n",
    "## 4. Applications of Quantum Dots\n",
    "\n",
    "### **Biomedical Applications**\n",
    "- **Cell imaging**: Functionalised QDs track proteins/DNA.\n",
    "- **In vivo imaging**: Tumor monitoring, stem cell tracking.\n",
    "- **Diagnostics**: Early cancer detection, drug delivery monitoring.\n",
    "\n",
    "### **Optoelectronic Applications**\n",
    "- **QD-LEDs**: Efficient colour display (Red/Green QDs, Blue backlight).\n",
    "- **QD Solar Cells**: High-efficiency light absorption.\n",
    "- **Lasers & Photodetectors**: Tunable emission properties.\n",
    "\n",
    "## 5. Example Problems and Solutions\n",
    "\n",
    "### **Problem 1: Band Gap and Photoluminescence**\n",
    "A quantum dot has a band gap of 2.3 eV and is excited by a 400 nm laser. What is the wavelength of the emitted light, and what colour is the emission?\n"
   ]
  },
  {
   "cell_type": "code",
   "execution_count": 12,
   "id": "55494553",
   "metadata": {},
   "outputs": [
    {
     "name": "stdout",
     "output_type": "stream",
     "text": [
      "539.0617323182621 green\n"
     ]
    }
   ],
   "source": [
    "import scipy.constants as const\n",
    "\n",
    "E_g = 2.3  # eV\n",
    "wavelength = (const.h * const.c) / (E_g * const.e)  # Convert eV to Joules\n",
    "wavelength_nm = wavelength * 1e9  \n",
    "\n",
    "#Approximate visible colour\n",
    "if wavelength_nm<500:\n",
    "    colour='blue'\n",
    "elif wavelength_nm>500 and wavelength_nm<580:\n",
    "    colour='green'\n",
    "else:\n",
    "    colour='red'\n",
    "print(wavelength_nm, colour)\n",
    "    "
   ]
  },
  {
   "cell_type": "markdown",
   "id": "939420d1",
   "metadata": {},
   "source": [
    "### **Problem 2: Quantum Dot Size and Band Gap**\n",
    "If a quantum dot's radius decreases from 5 nm to 2 nm, what happens to the band gap?\n",
    "\n",
    "#### **Solution:**\n",
    "From the Brus equation, reducing $ R$ increases the confinement term $ E_{confinement} $, increasing $ E_g $. Thus, the emitted photoluminescence shifts to a **shorter wavelength (blue shift)**.\n",
    "\n",
    "### **Problem 3: Work Function vs. Electron Affinity**\n",
    "A semiconductor has:\n",
    "- **Work function:** 5 eV\n",
    "- **Electron affinity:** 4 eV\n",
    "What is the position of the Fermi level relative to conduction band minimum?\n",
    "\n",
    "#### **Solution:**\n",
    "\n"
   ]
  },
  {
   "cell_type": "code",
   "execution_count": 11,
   "id": "03a92812",
   "metadata": {},
   "outputs": [
    {
     "name": "stdout",
     "output_type": "stream",
     "text": [
      " The Fermi level is 1 eV below the conduction band\n"
     ]
    }
   ],
   "source": [
    "work_function = 5  #eV\n",
    "electron_affinity = 4 #eV\n",
    "fermi_level = work_function - electron_affinity\n",
    "\n",
    "print(f' The Fermi level is {fermi_level} eV below the conduction band')\n"
   ]
  },
  {
   "cell_type": "markdown",
   "id": "975f4f2a",
   "metadata": {},
   "source": [
    "## **Summary**\n",
    "- **Fermi level** determines charge carrier distribution.\n",
    "- **Doping** enhances conductivity and enables semiconductor devices.\n",
    "- **Quantum dots** exhibit **size-dependent** optical properties due to **quantum confinement**.\n",
    "- **Photoluminescence** is influenced by excitation energy, material properties, and environmental factors.\n",
    "- **Applications** span **bioimaging, optoelectronics, and sensors**.\n",
    "- **Band gap increases as dot size decreases**, leading to blue-shifted emission."
   ]
  }
 ],
 "metadata": {
  "kernelspec": {
   "display_name": "Python 3 (ipykernel)",
   "language": "python",
   "name": "python3"
  },
  "language_info": {
   "codemirror_mode": {
    "name": "ipython",
    "version": 3
   },
   "file_extension": ".py",
   "mimetype": "text/x-python",
   "name": "python",
   "nbconvert_exporter": "python",
   "pygments_lexer": "ipython3",
   "version": "3.10.9"
  }
 },
 "nbformat": 4,
 "nbformat_minor": 5
}
